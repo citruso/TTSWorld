{
 "cells": [
  {
   "cell_type": "markdown",
   "id": "2f115402",
   "metadata": {},
   "source": [
    "Генерация речи посредством встроенных TTS движков системы + модуль google tts"
   ]
  },
  {
   "cell_type": "markdown",
   "id": "70e0bc9d",
   "metadata": {},
   "source": [
    "## Установка зависимостей"
   ]
  },
  {
   "cell_type": "code",
   "execution_count": 15,
   "id": "c9273598",
   "metadata": {},
   "outputs": [
    {
     "name": "stdout",
     "output_type": "stream",
     "text": [
      "Note: you may need to restart the kernel to use updated packages.\n"
     ]
    },
    {
     "name": "stderr",
     "output_type": "stream",
     "text": [
      "\n",
      "[notice] A new release of pip available: 22.2.1 -> 25.2\n",
      "[notice] To update, run: python.exe -m pip install --upgrade pip\n"
     ]
    }
   ],
   "source": [
    "%pip install -q -r requirements.txt"
   ]
  },
  {
   "cell_type": "markdown",
   "id": "a6a557f4",
   "metadata": {},
   "source": [
    "## Доступные синтезаторы в текущей системе по умолчанию\n",
    "\n",
    "У каждого голоса есть несколько параметров, с которыми можно работать:\n",
    "\n",
    "- id (идентификатор в операционной системе);\n",
    "- name (имя);\n",
    "- languages (поддерживаемые языки);\n",
    "- gender (пол);\n",
    "- age (возраст)."
   ]
  },
  {
   "cell_type": "code",
   "execution_count": null,
   "id": "14030932",
   "metadata": {},
   "outputs": [],
   "source": [
    "import pyttsx3\n",
    "\n",
    "# инициализируем голосовой движок\n",
    "try:\n",
    "  engine = pyttsx3.init()\n",
    "except RuntimeError as e:\n",
    "  raise SystemExit('В вашем окружении не найдены TTS движки. Попробуйте установить пакет espeak-ng')\n",
    "\n",
    "\n",
    "voices = engine.getProperty('voices')\n",
    "\n",
    "# выводим голоса и параметры каждого\n",
    "for voice in voices:\n",
    "  print('------')\n",
    "  print(f'Имя: {voice.name}')\n",
    "  print(f'ID: {voice.id}')\n",
    "  print(f'Язык(и): {voice.languages}')\n",
    "  print(f'Пол: {voice.gender}')\n",
    "  print(f'Возраст: {voice.age}')"
   ]
  },
  {
   "cell_type": "code",
   "execution_count": 2,
   "id": "66c6b455",
   "metadata": {},
   "outputs": [],
   "source": [
    "voice_id = ''\n",
    "engine.setProperty('voice', voice_id)"
   ]
  },
  {
   "cell_type": "code",
   "execution_count": null,
   "id": "62fea13f",
   "metadata": {},
   "outputs": [],
   "source": [
    "import yaml\n",
    "\n",
    "# извлекаем некоторые настройки параметров из конфиг файла\n",
    "try:\n",
    "  with open('config.yml', 'r') as stream:\n",
    "    config = yaml.safe_load(stream)\n",
    "except FileNotFoundError:\n",
    "  raise SystemExit('Отсутствует файл конфигурации TTS движка.')\n",
    "\n",
    "# настройка скорости речи\n",
    "engine.setProperty('rate', config['voice_rate'])\n",
    "\n",
    "# настройка громкости (0-1)\n",
    "engine.setProperty('volume', config['voice_volume'])\n",
    "\n",
    "# запись фраз в очередь\n",
    "engine.say('I love a rainy night')\n",
    "engine.say('Я люблю дождливые ночи')\n",
    "\n",
    "# очистка очереди и воспроизведение текста\n",
    "engine.runAndWait()"
   ]
  },
  {
   "cell_type": "markdown",
   "id": "15e3959f",
   "metadata": {},
   "source": [
    "### Google TTS"
   ]
  },
  {
   "cell_type": "code",
   "execution_count": null,
   "id": "37048019",
   "metadata": {},
   "outputs": [],
   "source": [
    "from gtts import gTTS\n",
    "\n",
    "tts = gTTS('I love a rainy night', lang='en')\n",
    "tts.save('sound_en.mp3')\n",
    "\n",
    "tts = gTTS('Я люблю дождливые ночи', lang='ru')\n",
    "tts.save('sound_ru.mp3')"
   ]
  }
 ],
 "metadata": {
  "kernelspec": {
   "display_name": "venv",
   "language": "python",
   "name": "python3"
  },
  "language_info": {
   "codemirror_mode": {
    "name": "ipython",
    "version": 3
   },
   "file_extension": ".py",
   "mimetype": "text/x-python",
   "name": "python",
   "nbconvert_exporter": "python",
   "pygments_lexer": "ipython3",
   "version": "3.10.6"
  }
 },
 "nbformat": 4,
 "nbformat_minor": 5
}
